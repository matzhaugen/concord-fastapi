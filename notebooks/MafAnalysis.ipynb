{
 "cells": [
  {
   "cell_type": "code",
   "execution_count": 18,
   "metadata": {},
   "outputs": [],
   "source": [
    "from pymaf import maf\n",
    "from concord import concord, robust_selection\n",
    "import pandas as pd\n",
    "import numpy as np\n",
    "import matplotlib.pylab as plt"
   ]
  },
  {
   "cell_type": "code",
   "execution_count": 16,
   "metadata": {},
   "outputs": [
    {
     "data": {
      "text/html": [
       "<div>\n",
       "<style scoped>\n",
       "    .dataframe tbody tr th:only-of-type {\n",
       "        vertical-align: middle;\n",
       "    }\n",
       "\n",
       "    .dataframe tbody tr th {\n",
       "        vertical-align: top;\n",
       "    }\n",
       "\n",
       "    .dataframe thead th {\n",
       "        text-align: right;\n",
       "    }\n",
       "</style>\n",
       "<table border=\"1\" class=\"dataframe\">\n",
       "  <thead>\n",
       "    <tr style=\"text-align: right;\">\n",
       "      <th>ticker</th>\n",
       "      <th>AA</th>\n",
       "      <th>AXP</th>\n",
       "      <th>BA</th>\n",
       "      <th>BAC</th>\n",
       "      <th>CAT</th>\n",
       "      <th>CSCO</th>\n",
       "      <th>CVX</th>\n",
       "      <th>DD</th>\n",
       "      <th>DIS</th>\n",
       "      <th>GE</th>\n",
       "      <th>...</th>\n",
       "      <th>MRK</th>\n",
       "      <th>MSFT</th>\n",
       "      <th>PFE</th>\n",
       "      <th>PG</th>\n",
       "      <th>T</th>\n",
       "      <th>TRV</th>\n",
       "      <th>UTX</th>\n",
       "      <th>VZ</th>\n",
       "      <th>WMT</th>\n",
       "      <th>XOM</th>\n",
       "    </tr>\n",
       "    <tr>\n",
       "      <th>date</th>\n",
       "      <th></th>\n",
       "      <th></th>\n",
       "      <th></th>\n",
       "      <th></th>\n",
       "      <th></th>\n",
       "      <th></th>\n",
       "      <th></th>\n",
       "      <th></th>\n",
       "      <th></th>\n",
       "      <th></th>\n",
       "      <th></th>\n",
       "      <th></th>\n",
       "      <th></th>\n",
       "      <th></th>\n",
       "      <th></th>\n",
       "      <th></th>\n",
       "      <th></th>\n",
       "      <th></th>\n",
       "      <th></th>\n",
       "      <th></th>\n",
       "      <th></th>\n",
       "    </tr>\n",
       "  </thead>\n",
       "  <tbody>\n",
       "    <tr>\n",
       "      <th>1990-03-26</th>\n",
       "      <td>5.22</td>\n",
       "      <td>4.50</td>\n",
       "      <td>15.50</td>\n",
       "      <td>4.71</td>\n",
       "      <td>4.66</td>\n",
       "      <td>0.08</td>\n",
       "      <td>7.47</td>\n",
       "      <td>8.92</td>\n",
       "      <td>7.61</td>\n",
       "      <td>2.89</td>\n",
       "      <td>...</td>\n",
       "      <td>5.54</td>\n",
       "      <td>0.59</td>\n",
       "      <td>1.33</td>\n",
       "      <td>5.13</td>\n",
       "      <td>5.25</td>\n",
       "      <td>5.10</td>\n",
       "      <td>4.31</td>\n",
       "      <td>8.09</td>\n",
       "      <td>4.59</td>\n",
       "      <td>5.85</td>\n",
       "    </tr>\n",
       "    <tr>\n",
       "      <th>1990-03-27</th>\n",
       "      <td>5.25</td>\n",
       "      <td>4.46</td>\n",
       "      <td>15.66</td>\n",
       "      <td>4.72</td>\n",
       "      <td>4.65</td>\n",
       "      <td>0.08</td>\n",
       "      <td>7.50</td>\n",
       "      <td>9.04</td>\n",
       "      <td>7.69</td>\n",
       "      <td>2.93</td>\n",
       "      <td>...</td>\n",
       "      <td>5.67</td>\n",
       "      <td>0.59</td>\n",
       "      <td>1.36</td>\n",
       "      <td>5.19</td>\n",
       "      <td>5.36</td>\n",
       "      <td>5.04</td>\n",
       "      <td>4.30</td>\n",
       "      <td>8.20</td>\n",
       "      <td>4.64</td>\n",
       "      <td>5.96</td>\n",
       "    </tr>\n",
       "    <tr>\n",
       "      <th>1990-03-28</th>\n",
       "      <td>5.31</td>\n",
       "      <td>4.42</td>\n",
       "      <td>15.69</td>\n",
       "      <td>4.69</td>\n",
       "      <td>4.62</td>\n",
       "      <td>0.08</td>\n",
       "      <td>7.57</td>\n",
       "      <td>8.98</td>\n",
       "      <td>7.64</td>\n",
       "      <td>2.93</td>\n",
       "      <td>...</td>\n",
       "      <td>5.71</td>\n",
       "      <td>0.58</td>\n",
       "      <td>1.38</td>\n",
       "      <td>5.18</td>\n",
       "      <td>5.42</td>\n",
       "      <td>5.04</td>\n",
       "      <td>4.33</td>\n",
       "      <td>8.23</td>\n",
       "      <td>4.67</td>\n",
       "      <td>5.92</td>\n",
       "    </tr>\n",
       "    <tr>\n",
       "      <th>1990-03-29</th>\n",
       "      <td>5.26</td>\n",
       "      <td>4.37</td>\n",
       "      <td>15.58</td>\n",
       "      <td>4.65</td>\n",
       "      <td>4.62</td>\n",
       "      <td>0.08</td>\n",
       "      <td>7.60</td>\n",
       "      <td>8.98</td>\n",
       "      <td>7.55</td>\n",
       "      <td>2.91</td>\n",
       "      <td>...</td>\n",
       "      <td>5.64</td>\n",
       "      <td>0.58</td>\n",
       "      <td>1.39</td>\n",
       "      <td>5.14</td>\n",
       "      <td>5.45</td>\n",
       "      <td>5.17</td>\n",
       "      <td>4.40</td>\n",
       "      <td>8.23</td>\n",
       "      <td>4.65</td>\n",
       "      <td>5.90</td>\n",
       "    </tr>\n",
       "    <tr>\n",
       "      <th>1990-03-30</th>\n",
       "      <td>5.16</td>\n",
       "      <td>4.31</td>\n",
       "      <td>15.45</td>\n",
       "      <td>4.60</td>\n",
       "      <td>4.61</td>\n",
       "      <td>0.08</td>\n",
       "      <td>7.59</td>\n",
       "      <td>8.95</td>\n",
       "      <td>7.49</td>\n",
       "      <td>2.90</td>\n",
       "      <td>...</td>\n",
       "      <td>5.52</td>\n",
       "      <td>0.58</td>\n",
       "      <td>1.37</td>\n",
       "      <td>5.10</td>\n",
       "      <td>5.43</td>\n",
       "      <td>5.19</td>\n",
       "      <td>4.35</td>\n",
       "      <td>8.30</td>\n",
       "      <td>4.64</td>\n",
       "      <td>5.92</td>\n",
       "    </tr>\n",
       "  </tbody>\n",
       "</table>\n",
       "<p>5 rows × 29 columns</p>\n",
       "</div>"
      ],
      "text/plain": [
       "ticker        AA   AXP     BA   BAC   CAT  CSCO   CVX    DD   DIS    GE  ...  \\\n",
       "date                                                                     ...   \n",
       "1990-03-26  5.22  4.50  15.50  4.71  4.66  0.08  7.47  8.92  7.61  2.89  ...   \n",
       "1990-03-27  5.25  4.46  15.66  4.72  4.65  0.08  7.50  9.04  7.69  2.93  ...   \n",
       "1990-03-28  5.31  4.42  15.69  4.69  4.62  0.08  7.57  8.98  7.64  2.93  ...   \n",
       "1990-03-29  5.26  4.37  15.58  4.65  4.62  0.08  7.60  8.98  7.55  2.91  ...   \n",
       "1990-03-30  5.16  4.31  15.45  4.60  4.61  0.08  7.59  8.95  7.49  2.90  ...   \n",
       "\n",
       "ticker       MRK  MSFT   PFE    PG     T   TRV   UTX    VZ   WMT   XOM  \n",
       "date                                                                    \n",
       "1990-03-26  5.54  0.59  1.33  5.13  5.25  5.10  4.31  8.09  4.59  5.85  \n",
       "1990-03-27  5.67  0.59  1.36  5.19  5.36  5.04  4.30  8.20  4.64  5.96  \n",
       "1990-03-28  5.71  0.58  1.38  5.18  5.42  5.04  4.33  8.23  4.67  5.92  \n",
       "1990-03-29  5.64  0.58  1.39  5.14  5.45  5.17  4.40  8.23  4.65  5.90  \n",
       "1990-03-30  5.52  0.58  1.37  5.10  5.43  5.19  4.35  8.30  4.64  5.92  \n",
       "\n",
       "[5 rows x 29 columns]"
      ]
     },
     "execution_count": 16,
     "metadata": {},
     "output_type": "execute_result"
    }
   ],
   "source": [
    "prices = pd.read_csv('../concord/src/flatData.csv')\n",
    "prices = prices.pivot(columns=\"ticker\", index=\"date\", values=\"close\")\n",
    "prices.head()"
   ]
  },
  {
   "cell_type": "code",
   "execution_count": 17,
   "metadata": {},
   "outputs": [],
   "source": [
    "f, w = maf(prices.values)"
   ]
  },
  {
   "cell_type": "code",
   "execution_count": 102,
   "metadata": {},
   "outputs": [
    {
     "data": {
      "image/png": "[encoded data removed]",
      "text/plain": [
       "<Figure size 432x288 with 1 Axes>"
      ]
     },
     "metadata": {
      "needs_background": "light"
     },
     "output_type": "display_data"
    }
   ],
   "source": [
    "n_mafs = 7\n",
    "plt.plot(f[:, :n_mafs])\n",
    "n_samples, n_stocks = f.shape\n"
   ]
  },
  {
   "cell_type": "code",
   "execution_count": 103,
   "metadata": {},
   "outputs": [
    {
     "data": {
      "text/plain": [
       "array([[  1.        ,   1.        ,   1.        , ...,   1.        ,\n",
       "          1.        ,   1.        ],\n",
       "       [  2.41003576,   2.41521306,   2.44372074, ..., 117.56396795,\n",
       "        116.79968373, 116.22342064],\n",
       "       [ -0.73500331,  -0.73457148,  -0.70420957, ...,   3.52704361,\n",
       "          3.31527501,   3.38703828],\n",
       "       ...,\n",
       "       [  5.57461937,   5.59970119,   5.56646868, ...,  20.26201849,\n",
       "         20.1250636 ,  20.12975227],\n",
       "       [  0.42800833,   0.40687571,   0.44060161, ...,   6.08885728,\n",
       "          6.32061578,   5.78608008],\n",
       "       [  0.8744006 ,   0.84961768,   0.81250255, ...,   6.64327381,\n",
       "          6.69994762,   7.26963328]])"
      ]
     },
     "execution_count": 103,
     "metadata": {},
     "output_type": "execute_result"
    }
   ],
   "source": [
    "f_hat = np.hstack((np.ones(n_samples)[:, np.newaxis], f[:, :n_mafs]))\n",
    "f_hat.T"
   ]
  },
  {
   "cell_type": "code",
   "execution_count": 104,
   "metadata": {},
   "outputs": [],
   "source": [
    "coefs, residuals, rank, s = np.linalg.lstsq(f_hat, prices.values, rcond=-1)"
   ]
  },
  {
   "cell_type": "code",
   "execution_count": 105,
   "metadata": {},
   "outputs": [],
   "source": [
    "prices_hat = np.dot(f_hat, coefs)"
   ]
  },
  {
   "cell_type": "code",
   "execution_count": 106,
   "metadata": {},
   "outputs": [
    {
     "data": {
      "text/plain": [
       "<matplotlib.legend.Legend at 0x156d26730>"
      ]
     },
     "execution_count": 106,
     "metadata": {},
     "output_type": "execute_result"
    },
    {
     "data": {
      "image/png": "[encoded data removed]",
      "text/plain": [
       "<Figure size 432x288 with 1 Axes>"
      ]
     },
     "metadata": {
      "needs_background": "light"
     },
     "output_type": "display_data"
    }
   ],
   "source": [
    "# Plot\n",
    "plt.plot(prices.values[:, :2], label=\"actual\")\n",
    "plt.plot(prices_hat[:, :2], \"--\", label=\"estimate\")\n",
    "plt.legend()"
   ]
  },
  {
   "cell_type": "code",
   "execution_count": 107,
   "metadata": {},
   "outputs": [],
   "source": [
    "price_residuals = prices.values - prices_hat"
   ]
  },
  {
   "cell_type": "code",
   "execution_count": 108,
   "metadata": {},
   "outputs": [],
   "source": [
    "norm_residuals = price_residuals / np.std(price_residuals, axis=0)"
   ]
  },
  {
   "cell_type": "code",
   "execution_count": 109,
   "metadata": {},
   "outputs": [
    {
     "data": {
      "text/plain": [
       "0.04424215456302252"
      ]
     },
     "execution_count": 109,
     "metadata": {},
     "output_type": "execute_result"
    }
   ],
   "source": [
    "opt_lambda = robust_selection(norm_residuals)\n",
    "opt_lambda"
   ]
  },
  {
   "cell_type": "code",
   "execution_count": 110,
   "metadata": {},
   "outputs": [],
   "source": [
    "omega = concord(norm_residuals, opt_lambda*2)"
   ]
  },
  {
   "cell_type": "code",
   "execution_count": 111,
   "metadata": {},
   "outputs": [
    {
     "name": "stdout",
     "output_type": "stream",
     "text": [
      "Sparsity: 0.6268472906403941\n"
     ]
    }
   ],
   "source": [
    "print(f\"Sparsity: {len(omega.nonzero()[0]) / (n_stocks*n_stocks - n_stocks)}\")"
   ]
  },
  {
   "cell_type": "code",
   "execution_count": 112,
   "metadata": {},
   "outputs": [
    {
     "data": {
      "image/png": "[encoded data removed]",
      "text/plain": [
       "<Figure size 432x288 with 1 Axes>"
      ]
     },
     "metadata": {
      "needs_background": "light"
     },
     "output_type": "display_data"
    }
   ],
   "source": [
    "plt.imshow(omega.todense(), cmap='hot', interpolation='nearest')\n",
    "plt.show()"
   ]
  },
  {
   "cell_type": "code",
   "execution_count": 100,
   "metadata": {},
   "outputs": [
    {
     "data": {
      "text/plain": [
       "(array([[24.,  4.,  0.,  0.,  1.],\n",
       "        [27.,  0.,  1.,  0.,  1.],\n",
       "        [25.,  3.,  0.,  0.,  1.],\n",
       "        [23.,  4.,  1.,  0.,  1.],\n",
       "        [26.,  2.,  0.,  0.,  1.],\n",
       "        [26.,  1.,  1.,  0.,  1.],\n",
       "        [26.,  1.,  0.,  1.,  1.],\n",
       "        [28.,  0.,  0.,  1.,  0.],\n",
       "        [28.,  0.,  0.,  1.,  0.],\n",
       "        [28.,  0.,  0.,  0.,  1.],\n",
       "        [27.,  1.,  0.,  1.,  0.],\n",
       "        [26.,  2.,  0.,  0.,  1.],\n",
       "        [25.,  3.,  0.,  0.,  1.],\n",
       "        [26.,  2.,  0.,  1.,  0.],\n",
       "        [24.,  4.,  0.,  1.,  0.],\n",
       "        [26.,  1.,  1.,  0.,  1.],\n",
       "        [25.,  3.,  0.,  0.,  1.],\n",
       "        [23.,  5.,  0.,  1.,  0.],\n",
       "        [27.,  1.,  0.,  1.,  0.],\n",
       "        [28.,  0.,  0.,  1.,  0.],\n",
       "        [28.,  0.,  0.,  1.,  0.],\n",
       "        [28.,  0.,  0.,  1.,  0.],\n",
       "        [25.,  3.,  0.,  1.,  0.],\n",
       "        [27.,  1.,  0.,  1.,  0.],\n",
       "        [28.,  0.,  0.,  1.,  0.],\n",
       "        [27.,  1.,  0.,  0.,  1.],\n",
       "        [27.,  1.,  0.,  1.,  0.],\n",
       "        [28.,  0.,  1.,  0.,  0.],\n",
       "        [26.,  1.,  0.,  1.,  1.]]),\n",
       " array([0.        , 0.46516796, 0.93033592, 1.39550387, 1.86067183,\n",
       "        2.32583979]),\n",
       " <a list of 29 BarContainer objects>)"
      ]
     },
     "execution_count": 100,
     "metadata": {},
     "output_type": "execute_result"
    },
    {
     "data": {
      "image/png": "[encoded data removed]",
      "text/plain": [
       "<Figure size 432x288 with 1 Axes>"
      ]
     },
     "metadata": {
      "needs_background": "light"
     },
     "output_type": "display_data"
    }
   ],
   "source": []
  },
  {
   "cell_type": "code",
   "execution_count": 99,
   "metadata": {},
   "outputs": [
    {
     "data": {
      "text/plain": [
       "array([[1.95496366, 0.10537014, 0.11828739, 0.63221298, 0.6471068 ,\n",
       "        0.46376829, 0.62054424, 0.24054554, 0.        , 0.05385344,\n",
       "        0.03259941, 0.        , 0.44006614, 0.        , 0.05413738,\n",
       "        0.31571408, 0.29778315, 0.80365498, 0.08787702, 0.        ,\n",
       "        0.08436812, 0.30352593, 0.        , 0.10986601, 0.        ,\n",
       "        0.14190987, 0.        , 0.        , 0.11035334],\n",
       "       [0.10537014, 1.99556674, 0.28045424, 0.        , 0.        ,\n",
       "        0.9508394 , 0.        , 0.03704147, 0.1447286 , 0.16462502,\n",
       "        0.15632995, 0.        , 0.        , 0.        , 0.24656925,\n",
       "        0.15280104, 0.08136709, 0.        , 0.        , 0.07290077,\n",
       "        0.        , 0.        , 0.1187639 , 0.10122571, 0.04813403,\n",
       "        0.11652202, 0.        , 0.        , 0.        ],\n",
       "       [0.11828739, 0.28045424, 2.23342644, 0.56862422, 0.23955995,\n",
       "        0.        , 0.        , 0.14065844, 0.        , 0.3174796 ,\n",
       "        0.60583439, 0.08958815, 0.35431081, 0.        , 0.        ,\n",
       "        0.22610678, 0.24238821, 0.        , 0.10360383, 0.20811941,\n",
       "        0.12823556, 0.        , 0.50178327, 0.        , 0.37978573,\n",
       "        0.15137915, 0.        , 0.        , 0.        ],\n",
       "       [0.63221298, 0.        , 0.56862422, 2.04459143, 0.        ,\n",
       "        0.        , 0.18391668, 0.        , 0.21264113, 0.10558768,\n",
       "        0.09843537, 0.        , 0.59267017, 0.        , 0.        ,\n",
       "        1.05629105, 0.        , 0.80495558, 0.13943929, 0.        ,\n",
       "        0.        , 0.16205192, 0.        , 0.26116062, 0.13081684,\n",
       "        0.        , 0.        , 0.28200501, 0.12775287],\n",
       "       [0.6471068 , 0.        , 0.23955995, 0.        , 2.06832236,\n",
       "        0.22810476, 0.        , 0.05847144, 0.        , 0.38088798,\n",
       "        0.07412198, 0.25851659, 0.        , 0.02403578, 0.37822986,\n",
       "        0.        , 0.48227731, 0.24889422, 0.01969505, 0.        ,\n",
       "        0.        , 0.30098401, 0.33511476, 0.        , 0.        ,\n",
       "        0.314742  , 0.        , 0.14611059, 0.        ],\n",
       "       [0.46376829, 0.9508394 , 0.        , 0.        , 0.22810476,\n",
       "        2.32583979, 0.        , 0.02437755, 0.16774009, 0.        ,\n",
       "        0.        , 0.        , 0.        , 0.67361303, 0.38234065,\n",
       "        0.        , 0.        , 0.        , 0.28351316, 0.10235809,\n",
       "        0.09690155, 0.29310032, 0.        , 0.19575092, 0.30885567,\n",
       "        0.        , 0.        , 0.        , 0.03278723],\n",
       "       [0.62054424, 0.        , 0.        , 0.18391668, 0.        ,\n",
       "        0.        , 2.31485153, 0.        , 0.04652655, 0.37828906,\n",
       "        0.        , 0.        , 0.        , 0.09610607, 0.        ,\n",
       "        0.14336949, 0.        , 0.11968699, 0.        , 0.        ,\n",
       "        0.        , 0.        , 0.        , 0.03883251, 0.        ,\n",
       "        0.        , 0.05406461, 0.        , 1.4800177 ],\n",
       "       [0.24054554, 0.03704147, 0.14065844, 0.        , 0.05847144,\n",
       "        0.02437755, 0.        , 1.4717556 , 0.04984238, 0.        ,\n",
       "        0.06937765, 0.42017528, 0.15392098, 0.05293083, 0.36297838,\n",
       "        0.12450672, 0.03784359, 0.        , 0.15572242, 0.28213724,\n",
       "        0.06994783, 0.10552194, 0.23796107, 0.11279135, 0.13230306,\n",
       "        0.11721285, 0.12127272, 0.28397981, 0.01151255],\n",
       "       [0.        , 0.1447286 , 0.        , 0.21264113, 0.        ,\n",
       "        0.16774009, 0.04652655, 0.04984238, 1.58247901, 0.24992868,\n",
       "        0.29557569, 0.19730742, 0.        , 0.01296162, 0.22138142,\n",
       "        0.        , 0.        , 0.00355774, 0.16405648, 0.03064825,\n",
       "        0.        , 0.        , 0.05095084, 0.        , 0.09110152,\n",
       "        0.20445763, 0.        , 0.30964643, 0.08703134],\n",
       "       [0.05385344, 0.16462502, 0.3174796 , 0.10558768, 0.38088798,\n",
       "        0.        , 0.37828906, 0.        , 0.24992868, 2.02072042,\n",
       "        0.02374144, 0.04412546, 0.        , 0.        , 0.        ,\n",
       "        0.        , 0.42508946, 0.02021623, 0.        , 0.37558143,\n",
       "        0.34760655, 0.11567948, 0.09129799, 0.        , 0.        ,\n",
       "        0.20375575, 0.        , 0.        , 0.        ],\n",
       "       [0.03259941, 0.15632995, 0.60583439, 0.09843537, 0.07412198,\n",
       "        0.        , 0.        , 0.06937765, 0.29557569, 0.02374144,\n",
       "        1.81920102, 0.        , 0.44964579, 0.        , 0.04230048,\n",
       "        0.29891009, 0.3613539 , 0.        , 0.        , 0.444882  ,\n",
       "        0.14622936, 0.32352249, 0.        , 0.        , 0.1821553 ,\n",
       "        0.        , 0.        , 0.07362169, 0.10499041],\n",
       "       [0.        , 0.        , 0.08958815, 0.        , 0.25851659,\n",
       "        0.        , 0.        , 0.42017528, 0.19730742, 0.04412546,\n",
       "        0.        , 2.08165552, 0.38247624, 0.55740862, 0.05454644,\n",
       "        0.06010211, 0.        , 0.18457496, 0.42128582, 0.        ,\n",
       "        0.22838305, 0.06222915, 0.        , 0.16697507, 0.17492122,\n",
       "        0.        , 0.        , 0.        , 0.62714804],\n",
       "       [0.44006614, 0.        , 0.35431081, 0.59267017, 0.        ,\n",
       "        0.        , 0.        , 0.15392098, 0.        , 0.        ,\n",
       "        0.44964579, 0.38247624, 1.87256102, 0.        , 0.54237006,\n",
       "        0.00648543, 0.30417942, 0.66042251, 0.03617063, 0.        ,\n",
       "        0.        , 0.25697294, 0.46400785, 0.        , 0.        ,\n",
       "        0.        , 0.        , 0.2702264 , 0.06698337],\n",
       "       [0.        , 0.        , 0.        , 0.        , 0.02403578,\n",
       "        0.67361303, 0.09610607, 0.05293083, 0.01296162, 0.        ,\n",
       "        0.        , 0.55740862, 0.        , 1.76049727, 0.        ,\n",
       "        0.        , 0.        , 0.03442701, 0.00636248, 0.35782249,\n",
       "        0.06510728, 0.05881438, 0.06855071, 0.33076832, 0.        ,\n",
       "        0.        , 0.        , 0.02173297, 0.05280556],\n",
       "       [0.05413738, 0.24656925, 0.        , 0.        , 0.37822986,\n",
       "        0.38234065, 0.        , 0.36297838, 0.22138142, 0.        ,\n",
       "        0.04230048, 0.05454644, 0.54237006, 0.        , 1.82360594,\n",
       "        0.4147195 , 0.        , 0.51778814, 0.00845436, 0.        ,\n",
       "        0.26269331, 0.        , 0.80715442, 0.03972744, 0.09643918,\n",
       "        0.5064815 , 0.01221532, 0.01745264, 0.02446667],\n",
       "       [0.31571408, 0.15280104, 0.22610678, 1.05629105, 0.        ,\n",
       "        0.        , 0.14336949, 0.12450672, 0.        , 0.        ,\n",
       "        0.29891009, 0.06010211, 0.00648543, 0.        , 0.4147195 ,\n",
       "        2.05601904, 0.13102839, 0.        , 0.22771316, 0.        ,\n",
       "        0.4644794 , 0.2721312 , 0.50702587, 0.0376483 , 0.        ,\n",
       "        0.41621661, 0.        , 0.1028933 , 0.        ],\n",
       "       [0.29778315, 0.08136709, 0.24238821, 0.        , 0.48227731,\n",
       "        0.        , 0.        , 0.03784359, 0.        , 0.42508946,\n",
       "        0.3613539 , 0.        , 0.30417942, 0.        , 0.        ,\n",
       "        0.13102839, 2.12374551, 0.50568686, 0.56461347, 0.1398412 ,\n",
       "        0.36448929, 0.        , 0.        , 0.39734574, 0.        ,\n",
       "        0.        , 0.05919362, 0.37339038, 0.17466926],\n",
       "       [0.80365498, 0.        , 0.        , 0.80495558, 0.24889422,\n",
       "        0.        , 0.11968699, 0.        , 0.00355774, 0.02021623,\n",
       "        0.        , 0.18457496, 0.66042251, 0.03442701, 0.51778814,\n",
       "        0.        , 0.50568686, 1.6848944 , 0.00842195, 0.01071861,\n",
       "        0.07735949, 0.        , 0.38049252, 0.16912301, 0.23382933,\n",
       "        0.21312291, 0.        , 0.        , 0.11792029],\n",
       "       [0.08787702, 0.        , 0.10360383, 0.13943929, 0.01969505,\n",
       "        0.28351316, 0.        , 0.15572242, 0.16405648, 0.        ,\n",
       "        0.        , 0.42128582, 0.03617063, 0.00636248, 0.00845436,\n",
       "        0.22771316, 0.56461347, 0.00842195, 1.79610264, 0.29420153,\n",
       "        0.        , 0.        , 0.        , 0.        , 0.34649409,\n",
       "        0.40434542, 0.01655804, 0.01811306, 0.        ],\n",
       "       [0.        , 0.07290077, 0.20811941, 0.        , 0.        ,\n",
       "        0.10235809, 0.        , 0.28213724, 0.03064825, 0.37558143,\n",
       "        0.444882  , 0.        , 0.        , 0.35782249, 0.        ,\n",
       "        0.        , 0.1398412 , 0.01071861, 0.29420153, 1.42428976,\n",
       "        0.        , 0.02156005, 0.        , 0.        , 0.07511481,\n",
       "        0.30309575, 0.        , 0.15929262, 0.        ],\n",
       "       [0.08436812, 0.        , 0.12823556, 0.        , 0.        ,\n",
       "        0.09690155, 0.        , 0.06994783, 0.        , 0.34760655,\n",
       "        0.14622936, 0.22838305, 0.        , 0.06510728, 0.26269331,\n",
       "        0.4644794 , 0.36448929, 0.07735949, 0.        , 0.        ,\n",
       "        1.5405579 , 0.36793055, 0.        , 0.07481221, 0.42899334,\n",
       "        0.        , 0.07348396, 0.        , 0.        ],\n",
       "       [0.30352593, 0.        , 0.        , 0.16205192, 0.30098401,\n",
       "        0.29310032, 0.        , 0.10552194, 0.        , 0.11567948,\n",
       "        0.32352249, 0.06222915, 0.25697294, 0.05881438, 0.        ,\n",
       "        0.2721312 , 0.        , 0.        , 0.        , 0.02156005,\n",
       "        0.36793055, 1.43723178, 0.        , 0.        , 0.11653403,\n",
       "        0.37872575, 0.08038962, 0.        , 0.03795879],\n",
       "       [0.        , 0.1187639 , 0.50178327, 0.        , 0.33511476,\n",
       "        0.        , 0.        , 0.23796107, 0.05095084, 0.09129799,\n",
       "        0.        , 0.        , 0.46400785, 0.06855071, 0.80715442,\n",
       "        0.50702587, 0.        , 0.38049252, 0.        , 0.        ,\n",
       "        0.        , 0.        , 1.81902019, 0.09345847, 0.        ,\n",
       "        0.42287863, 0.02621842, 0.15740492, 0.        ],\n",
       "       [0.10986601, 0.10122571, 0.        , 0.26116062, 0.        ,\n",
       "        0.19575092, 0.03883251, 0.11279135, 0.        , 0.        ,\n",
       "        0.        , 0.16697507, 0.        , 0.33076832, 0.03972744,\n",
       "        0.0376483 , 0.39734574, 0.16912301, 0.        , 0.        ,\n",
       "        0.07481221, 0.        , 0.09345847, 1.75540293, 0.02664156,\n",
       "        0.        , 0.81439072, 0.1420141 , 0.        ],\n",
       "       [0.        , 0.04813403, 0.37978573, 0.13081684, 0.        ,\n",
       "        0.30885567, 0.        , 0.13230306, 0.09110152, 0.        ,\n",
       "        0.1821553 , 0.17492122, 0.        , 0.        , 0.09643918,\n",
       "        0.        , 0.        , 0.23382933, 0.34649409, 0.07511481,\n",
       "        0.42899334, 0.11653403, 0.        , 0.02664156, 1.57703027,\n",
       "        0.        , 0.        , 0.        , 0.08453197],\n",
       "       [0.14190987, 0.11652202, 0.15137915, 0.        , 0.314742  ,\n",
       "        0.        , 0.        , 0.11721285, 0.20445763, 0.20375575,\n",
       "        0.        , 0.        , 0.        , 0.        , 0.5064815 ,\n",
       "        0.41621661, 0.        , 0.21312291, 0.40434542, 0.30309575,\n",
       "        0.        , 0.37872575, 0.42287863, 0.        , 0.        ,\n",
       "        2.13027051, 0.        , 0.02578449, 0.00593409],\n",
       "       [0.        , 0.        , 0.        , 0.        , 0.        ,\n",
       "        0.        , 0.05406461, 0.12127272, 0.        , 0.        ,\n",
       "        0.        , 0.        , 0.        , 0.        , 0.01221532,\n",
       "        0.        , 0.05919362, 0.        , 0.01655804, 0.        ,\n",
       "        0.07348396, 0.08038962, 0.02621842, 0.81439072, 0.        ,\n",
       "        0.        , 1.43555135, 0.        , 0.18094905],\n",
       "       [0.        , 0.        , 0.        , 0.28200501, 0.14611059,\n",
       "        0.        , 0.        , 0.28397981, 0.30964643, 0.        ,\n",
       "        0.07362169, 0.        , 0.2702264 , 0.02173297, 0.01745264,\n",
       "        0.1028933 , 0.37339038, 0.        , 0.01811306, 0.15929262,\n",
       "        0.        , 0.        , 0.15740492, 0.1420141 , 0.        ,\n",
       "        0.02578449, 0.        , 1.31056568, 0.        ],\n",
       "       [0.11035334, 0.        , 0.        , 0.12775287, 0.        ,\n",
       "        0.03278723, 1.4800177 , 0.01151255, 0.08703134, 0.        ,\n",
       "        0.10499041, 0.62714804, 0.06698337, 0.05280556, 0.02446667,\n",
       "        0.        , 0.17466926, 0.11792029, 0.        , 0.        ,\n",
       "        0.        , 0.03795879, 0.        , 0.        , 0.08453197,\n",
       "        0.00593409, 0.18094905, 0.        , 2.11236884]])"
      ]
     },
     "execution_count": 99,
     "metadata": {},
     "output_type": "execute_result"
    }
   ],
   "source": []
  }
 ],
 "metadata": {
  "kernelspec": {
   "display_name": "Python 3",
   "language": "python",
   "name": "python3"
  },
  "language_info": {
   "codemirror_mode": {
    "name": "ipython",
    "version": 3
   },
   "file_extension": ".py",
   "mimetype": "text/x-python",
   "name": "python",
   "nbconvert_exporter": "python",
   "pygments_lexer": "ipython3",
   "version": "3.8.6"
  }
 },
 "nbformat": 4,
 "nbformat_minor": 4
}
