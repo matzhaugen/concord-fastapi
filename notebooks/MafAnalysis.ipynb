{
 "cells": [
  {
   "cell_type": "code",
   "execution_count": null,
   "metadata": {},
   "outputs": [],
   "source": [
    "# In this analysis, we calculate the covariance matrix of a set of returns. \n",
    "# In one set, we compute the returns as is, and in the other we remove noise in the \n",
    "# returns by using a signal estimate in the form of MAF factors as our price estiamtes.\n",
    "# We find that the sparsity of the MAF estiamted returns is slightly higher,\n",
    "# but there are less values close to the value zero. This may mean that there are more\n",
    "# significant values in the MAF estimated values."
   ]
  },
  {
   "cell_type": "code",
   "execution_count": 87,
   "metadata": {},
   "outputs": [],
   "source": [
    "from pymaf import maf\n",
    "from concord import concord, robust_selection\n",
    "import pandas as pd\n",
    "import numpy as np\n",
    "import matplotlib.pylab as plt\n",
    "def plot_cov(omega):\n",
    "    sparsity = len(omega.nonzero()[0]) / (n_stocks*n_stocks - n_stocks)\n",
    "    plt.imshow(omega.todense(), cmap='gray', interpolation='nearest')\n",
    "    plt.title(f\"{sparsity}\")\n",
    "    plt.show()\n",
    "def normalize(matrix, axis=0):\n",
    "    n, p = matrix.shape\n",
    "    return (matrix - np.mean(matrix, axis=axis)) / np.std(matrix, axis=axis)\n",
    "def p_transform(x, p):\n",
    "    # Symmetrically raise values to the p^th power\n",
    "    sign = (x > 0) * 2 - 1\n",
    "    positive = sign * np.power(np.abs(x), p) * (np.abs(x) > 1)\n",
    "    negative = sign * np.abs(x)*p * (np.abs(x) < 1)\n",
    "    return positive + negative\n",
    "\n",
    "def get_omega(prices):\n",
    "    returns = np.diff(prices, axis=0) / prices[:-1, :]\n",
    "    n, p = returns.shape\n",
    "    norm_returns = normalize(returns)\n",
    "    opt_lambda = robust_selection(norm_returns)\n",
    "    print(np.diag(np.cov(norm_returns.T)) / n * (n - 1))\n",
    "    omega = concord(norm_returns, opt_lambda)\n",
    "    return omega, opt_lambda"
   ]
  },
  {
   "cell_type": "code",
   "execution_count": 88,
   "metadata": {},
   "outputs": [
    {
     "data": {
      "text/html": [
       "<div>\n",
       "<style scoped>\n",
       "    .dataframe tbody tr th:only-of-type {\n",
       "        vertical-align: middle;\n",
       "    }\n",
       "\n",
       "    .dataframe tbody tr th {\n",
       "        vertical-align: top;\n",
       "    }\n",
       "\n",
       "    .dataframe thead th {\n",
       "        text-align: right;\n",
       "    }\n",
       "</style>\n",
       "<table border=\"1\" class=\"dataframe\">\n",
       "  <thead>\n",
       "    <tr style=\"text-align: right;\">\n",
       "      <th>ticker</th>\n",
       "      <th>AA</th>\n",
       "      <th>AXP</th>\n",
       "      <th>BA</th>\n",
       "      <th>BAC</th>\n",
       "      <th>CAT</th>\n",
       "      <th>CSCO</th>\n",
       "      <th>CVX</th>\n",
       "      <th>DD</th>\n",
       "      <th>DIS</th>\n",
       "      <th>GE</th>\n",
       "      <th>...</th>\n",
       "      <th>MRK</th>\n",
       "      <th>MSFT</th>\n",
       "      <th>PFE</th>\n",
       "      <th>PG</th>\n",
       "      <th>T</th>\n",
       "      <th>TRV</th>\n",
       "      <th>UTX</th>\n",
       "      <th>VZ</th>\n",
       "      <th>WMT</th>\n",
       "      <th>XOM</th>\n",
       "    </tr>\n",
       "    <tr>\n",
       "      <th>date</th>\n",
       "      <th></th>\n",
       "      <th></th>\n",
       "      <th></th>\n",
       "      <th></th>\n",
       "      <th></th>\n",
       "      <th></th>\n",
       "      <th></th>\n",
       "      <th></th>\n",
       "      <th></th>\n",
       "      <th></th>\n",
       "      <th></th>\n",
       "      <th></th>\n",
       "      <th></th>\n",
       "      <th></th>\n",
       "      <th></th>\n",
       "      <th></th>\n",
       "      <th></th>\n",
       "      <th></th>\n",
       "      <th></th>\n",
       "      <th></th>\n",
       "      <th></th>\n",
       "    </tr>\n",
       "  </thead>\n",
       "  <tbody>\n",
       "    <tr>\n",
       "      <th>2011-09-19</th>\n",
       "      <td>11.39</td>\n",
       "      <td>47.80</td>\n",
       "      <td>62.24</td>\n",
       "      <td>6.95</td>\n",
       "      <td>82.38</td>\n",
       "      <td>16.01</td>\n",
       "      <td>94.74</td>\n",
       "      <td>44.41</td>\n",
       "      <td>31.97</td>\n",
       "      <td>15.63</td>\n",
       "      <td>...</td>\n",
       "      <td>30.88</td>\n",
       "      <td>26.26</td>\n",
       "      <td>17.21</td>\n",
       "      <td>61.23</td>\n",
       "      <td>26.71</td>\n",
       "      <td>48.45</td>\n",
       "      <td>73.17</td>\n",
       "      <td>34.10</td>\n",
       "      <td>51.15</td>\n",
       "      <td>71.45</td>\n",
       "    </tr>\n",
       "    <tr>\n",
       "      <th>2011-09-20</th>\n",
       "      <td>11.07</td>\n",
       "      <td>48.38</td>\n",
       "      <td>61.67</td>\n",
       "      <td>6.86</td>\n",
       "      <td>81.46</td>\n",
       "      <td>16.03</td>\n",
       "      <td>93.86</td>\n",
       "      <td>44.00</td>\n",
       "      <td>31.78</td>\n",
       "      <td>15.50</td>\n",
       "      <td>...</td>\n",
       "      <td>31.12</td>\n",
       "      <td>26.04</td>\n",
       "      <td>17.38</td>\n",
       "      <td>61.49</td>\n",
       "      <td>26.96</td>\n",
       "      <td>48.96</td>\n",
       "      <td>73.62</td>\n",
       "      <td>34.22</td>\n",
       "      <td>51.00</td>\n",
       "      <td>71.75</td>\n",
       "    </tr>\n",
       "    <tr>\n",
       "      <th>2011-09-21</th>\n",
       "      <td>10.67</td>\n",
       "      <td>47.36</td>\n",
       "      <td>59.21</td>\n",
       "      <td>6.34</td>\n",
       "      <td>77.28</td>\n",
       "      <td>15.36</td>\n",
       "      <td>90.48</td>\n",
       "      <td>42.71</td>\n",
       "      <td>30.76</td>\n",
       "      <td>14.86</td>\n",
       "      <td>...</td>\n",
       "      <td>30.50</td>\n",
       "      <td>25.09</td>\n",
       "      <td>17.00</td>\n",
       "      <td>60.47</td>\n",
       "      <td>26.44</td>\n",
       "      <td>46.79</td>\n",
       "      <td>72.52</td>\n",
       "      <td>33.68</td>\n",
       "      <td>50.05</td>\n",
       "      <td>69.77</td>\n",
       "    </tr>\n",
       "    <tr>\n",
       "      <th>2011-09-22</th>\n",
       "      <td>9.95</td>\n",
       "      <td>45.79</td>\n",
       "      <td>56.97</td>\n",
       "      <td>6.02</td>\n",
       "      <td>71.96</td>\n",
       "      <td>14.87</td>\n",
       "      <td>86.55</td>\n",
       "      <td>39.88</td>\n",
       "      <td>29.06</td>\n",
       "      <td>14.53</td>\n",
       "      <td>...</td>\n",
       "      <td>29.81</td>\n",
       "      <td>24.19</td>\n",
       "      <td>16.66</td>\n",
       "      <td>58.69</td>\n",
       "      <td>25.93</td>\n",
       "      <td>46.01</td>\n",
       "      <td>66.16</td>\n",
       "      <td>33.45</td>\n",
       "      <td>49.04</td>\n",
       "      <td>67.13</td>\n",
       "    </tr>\n",
       "    <tr>\n",
       "      <th>2011-09-23</th>\n",
       "      <td>9.91</td>\n",
       "      <td>45.61</td>\n",
       "      <td>57.74</td>\n",
       "      <td>6.27</td>\n",
       "      <td>71.92</td>\n",
       "      <td>15.14</td>\n",
       "      <td>86.39</td>\n",
       "      <td>38.74</td>\n",
       "      <td>29.34</td>\n",
       "      <td>14.69</td>\n",
       "      <td>...</td>\n",
       "      <td>29.73</td>\n",
       "      <td>24.19</td>\n",
       "      <td>16.63</td>\n",
       "      <td>58.77</td>\n",
       "      <td>26.02</td>\n",
       "      <td>45.75</td>\n",
       "      <td>66.75</td>\n",
       "      <td>33.72</td>\n",
       "      <td>49.54</td>\n",
       "      <td>67.20</td>\n",
       "    </tr>\n",
       "  </tbody>\n",
       "</table>\n",
       "<p>5 rows × 29 columns</p>\n",
       "</div>"
      ],
      "text/plain": [
       "ticker         AA    AXP     BA   BAC    CAT   CSCO    CVX     DD    DIS  \\\n",
       "date                                                                       \n",
       "2011-09-19  11.39  47.80  62.24  6.95  82.38  16.01  94.74  44.41  31.97   \n",
       "2011-09-20  11.07  48.38  61.67  6.86  81.46  16.03  93.86  44.00  31.78   \n",
       "2011-09-21  10.67  47.36  59.21  6.34  77.28  15.36  90.48  42.71  30.76   \n",
       "2011-09-22   9.95  45.79  56.97  6.02  71.96  14.87  86.55  39.88  29.06   \n",
       "2011-09-23   9.91  45.61  57.74  6.27  71.92  15.14  86.39  38.74  29.34   \n",
       "\n",
       "ticker         GE  ...    MRK   MSFT    PFE     PG      T    TRV    UTX  \\\n",
       "date               ...                                                    \n",
       "2011-09-19  15.63  ...  30.88  26.26  17.21  61.23  26.71  48.45  73.17   \n",
       "2011-09-20  15.50  ...  31.12  26.04  17.38  61.49  26.96  48.96  73.62   \n",
       "2011-09-21  14.86  ...  30.50  25.09  17.00  60.47  26.44  46.79  72.52   \n",
       "2011-09-22  14.53  ...  29.81  24.19  16.66  58.69  25.93  46.01  66.16   \n",
       "2011-09-23  14.69  ...  29.73  24.19  16.63  58.77  26.02  45.75  66.75   \n",
       "\n",
       "ticker         VZ    WMT    XOM  \n",
       "date                             \n",
       "2011-09-19  34.10  51.15  71.45  \n",
       "2011-09-20  34.22  51.00  71.75  \n",
       "2011-09-21  33.68  50.05  69.77  \n",
       "2011-09-22  33.45  49.04  67.13  \n",
       "2011-09-23  33.72  49.54  67.20  \n",
       "\n",
       "[5 rows x 29 columns]"
      ]
     },
     "execution_count": 88,
     "metadata": {},
     "output_type": "execute_result"
    }
   ],
   "source": [
    "prices = pd.read_csv('../concord/src/flatData.csv')\n",
    "prices = prices.pivot(columns=\"ticker\", index=\"date\", values=\"close\")\n",
    "prices = prices.iloc[-300:, :]\n",
    "prices.head()"
   ]
  },
  {
   "cell_type": "code",
   "execution_count": 89,
   "metadata": {},
   "outputs": [
    {
     "data": {
      "image/png": "[encoded data removed]",
      "text/plain": [
       "<Figure size 432x288 with 1 Axes>"
      ]
     },
     "metadata": {
      "needs_background": "light"
     },
     "output_type": "display_data"
    }
   ],
   "source": [
    "f, w = maf(prices.values)\n",
    "n_mafs = 5\n",
    "plt.plot(f[:, :n_mafs])\n",
    "n_samples, n_stocks = f.shape\n"
   ]
  },
  {
   "cell_type": "code",
   "execution_count": 93,
   "metadata": {},
   "outputs": [],
   "source": [
    "f_hat = np.hstack((np.ones(n_samples)[:, np.newaxis], f[:, :n_mafs]))\n",
    "coefs, residuals, rank, s = np.linalg.lstsq(f_hat, prices.values, rcond=-1)\n",
    "prices_hat = np.dot(f_hat, coefs)"
   ]
  },
  {
   "cell_type": "code",
   "execution_count": 94,
   "metadata": {},
   "outputs": [
    {
     "data": {
      "text/plain": [
       "<matplotlib.legend.Legend at 0x185bfaac0>"
      ]
     },
     "execution_count": 94,
     "metadata": {},
     "output_type": "execute_result"
    },
    {
     "data": {
      "image/png": "[encoded data removed]",
      "text/plain": [
       "<Figure size 432x288 with 1 Axes>"
      ]
     },
     "metadata": {
      "needs_background": "light"
     },
     "output_type": "display_data"
    }
   ],
   "source": [
    "# Plot\n",
    "plt.plot(prices.values[:, :2], label=\"actual\")\n",
    "plt.plot(prices_hat[:, :2], \"--\", label=\"estimate\")\n",
    "plt.legend()"
   ]
  },
  {
   "cell_type": "code",
   "execution_count": 99,
   "metadata": {},
   "outputs": [
    {
     "name": "stdout",
     "output_type": "stream",
     "text": [
      "[1. 1. 1. 1. 1. 1. 1. 1. 1. 1. 1. 1. 1. 1. 1. 1. 1. 1. 1. 1. 1. 1. 1. 1.\n",
      " 1. 1. 1. 1. 1.]\n",
      "[1. 1. 1. 1. 1. 1. 1. 1. 1. 1. 1. 1. 1. 1. 1. 1. 1. 1. 1. 1. 1. 1. 1. 1.\n",
      " 1. 1. 1. 1. 1.]\n",
      "[1. 1. 1. 1. 1. 1. 1. 1. 1. 1. 1. 1. 1. 1. 1. 1. 1. 1. 1. 1. 1. 1. 1. 1.\n",
      " 1. 1. 1. 1. 1.]\n",
      "0.24818205837803406\n"
     ]
    },
    {
     "data": {
      "image/png": "[encoded data removed]",
      "text/plain": [
       "<Figure size 432x288 with 1 Axes>"
      ]
     },
     "metadata": {
      "needs_background": "light"
     },
     "output_type": "display_data"
    },
    {
     "name": "stdout",
     "output_type": "stream",
     "text": [
      "0.16169240774409263\n"
     ]
    },
    {
     "data": {
      "image/png": "[encoded data removed]",
      "text/plain": [
       "<Figure size 432x288 with 1 Axes>"
      ]
     },
     "metadata": {
      "needs_background": "light"
     },
     "output_type": "display_data"
    }
   ],
   "source": [
    "res_prices_i = prices.values[-225:, :] - prices_hat[-225:, :]\n",
    "prices_i = prices.values[-225:, :]\n",
    "prices_hat_i = prices_hat[-225:, :]\n",
    "res_omega, res_opt_lambda = get_omega(res_prices_i)\n",
    "omega_hat, opt_lambda_hat = get_omega(prices_hat_i)\n",
    "omega, opt_lambda = get_omega(prices_i)\n",
    "print(opt_lambda)\n",
    "plot_cov(omega)\n",
    "print(opt_lambda_hat)\n",
    "plot_cov(omega_hat)"
   ]
  },
  {
   "cell_type": "code",
   "execution_count": 252,
   "metadata": {},
   "outputs": [],
   "source": [
    "y = returns.ravel()\n",
    "lam = 1 / np.mean(y)\n",
    "fy = lam*np.exp(y*lam)"
   ]
  },
  {
   "cell_type": "code",
   "execution_count": 82,
   "metadata": {},
   "outputs": [
    {
     "name": "stdout",
     "output_type": "stream",
     "text": [
      "257\n",
      "289\n"
     ]
    }
   ],
   "source": [
    "eps = 0.000001\n",
    "sij = np.array(omega.todense()).ravel()\n",
    "sij = sij[np.abs(sij) > eps]\n",
    "print(len(sij))\n",
    "sij_hat = np.array(omega_hat.todense()).ravel()\n",
    "sij_hat = sij_hat[np.abs(sij_hat) > eps ]\n",
    "print(len(sij_hat))"
   ]
  },
  {
   "cell_type": "code",
   "execution_count": 85,
   "metadata": {},
   "outputs": [
    {
     "data": {
      "text/plain": [
       "406.0"
      ]
     },
     "execution_count": 85,
     "metadata": {},
     "output_type": "execute_result"
    }
   ],
   "source": [
    "n_stocks*(n_stocks-1) / 2"
   ]
  },
  {
   "cell_type": "code",
   "execution_count": 100,
   "metadata": {},
   "outputs": [
    {
     "data": {
      "text/plain": [
       "(array([ 4.,  4.,  4., 18., 18., 10., 36., 42., 52., 30., 18., 16.,  6.,\n",
       "         0.,  2.,  0.,  0.,  0.,  0.,  1.,  0.,  1.,  2.,  2.,  5.,  4.,\n",
       "         1.,  1.,  6.,  6.]),\n",
       " array([-2.10989214, -1.88295739, -1.65602264, -1.4290879 , -1.20215315,\n",
       "        -0.9752184 , -0.74828365, -0.5213489 , -0.29441416, -0.06747941,\n",
       "         0.15945534,  0.38639009,  0.61332484,  0.84025958,  1.06719433,\n",
       "         1.29412908,  1.52106383,  1.74799858,  1.97493332,  2.20186807,\n",
       "         2.42880282,  2.65573757,  2.88267231,  3.10960706,  3.33654181,\n",
       "         3.56347656,  3.79041131,  4.01734605,  4.2442808 ,  4.47121555,\n",
       "         4.6981503 ]),\n",
       " <BarContainer object of 30 artists>)"
      ]
     },
     "execution_count": 100,
     "metadata": {},
     "output_type": "execute_result"
    },
    {
     "data": {
      "image/png": "[encoded data removed]",
      "text/plain": [
       "<Figure size 1440x360 with 2 Axes>"
      ]
     },
     "metadata": {
      "needs_background": "light"
     },
     "output_type": "display_data"
    }
   ],
   "source": [
    "plt.figure(figsize=(20,5))\n",
    "plt.subplot(1,3,1)\n",
    "plt.hist(sij, bins=30)\n",
    "plt.subplot(1,3,2)\n",
    "plt.hist(sij_hat, bins=30)"
   ]
  },
  {
   "cell_type": "code",
   "execution_count": null,
   "metadata": {},
   "outputs": [],
   "source": []
  }
 ],
 "metadata": {
  "kernelspec": {
   "display_name": "Python 3",
   "language": "python",
   "name": "python3"
  },
  "language_info": {
   "codemirror_mode": {
    "name": "ipython",
    "version": 3
   },
   "file_extension": ".py",
   "mimetype": "text/x-python",
   "name": "python",
   "nbconvert_exporter": "python",
   "pygments_lexer": "ipython3",
   "version": "3.8.6"
  }
 },
 "nbformat": 4,
 "nbformat_minor": 4
}
